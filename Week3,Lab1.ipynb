{
 "cells": [
  {
   "cell_type": "code",
   "execution_count": 20,
   "id": "75a915de-5d2c-481b-a5e7-72af74378d64",
   "metadata": {},
   "outputs": [
    {
     "name": "stdout",
     "output_type": "stream",
     "text": [
      "Current time in Tokyo: 2025-03-06 06:21:55.527933+09:00\n"
     ]
    }
   ],
   "source": [
    "import pytz\n",
    "from datetime import datetime\n",
    "\n",
    "# Define timezone\n",
    "timezone = pytz.timezone('Asia/Tokyo')\n",
    "\n",
    "# Get current time in the specified timezone\n",
    "current_time = datetime.now(timezone)\n",
    "print(\"Current time in Tokyo:\", current_time)\n"
   ]
  },
  {
   "cell_type": "code",
   "execution_count": 21,
   "id": "f6683fa7-99e1-44bb-aac1-c3a926bacdb3",
   "metadata": {},
   "outputs": [
    {
     "name": "stdout",
     "output_type": "stream",
     "text": [
      "Current time: 2025-03-06 10:22:08.728746\n"
     ]
    }
   ],
   "source": [
    "from datetime import datetime\n",
    "\n",
    "# Get current time\n",
    "current_time = datetime.now()\n",
    "print(\"Current time:\", current_time)\n"
   ]
  },
  {
   "cell_type": "code",
   "execution_count": 24,
   "id": "29a203c0-0cbc-4447-a9a5-81349880b2f4",
   "metadata": {},
   "outputs": [
    {
     "name": "stdout",
     "output_type": "stream",
     "text": [
      "Current time = 10:28:28.921527\n"
     ]
    }
   ],
   "source": [
    "from datetime import datetime\n",
    "\n",
    "# Time object containing the current time\n",
    "current_time = datetime.now().time()\n",
    "\n",
    "# Print the current time\n",
    "print(\"Current time =\", current_time)\n"
   ]
  },
  {
   "cell_type": "code",
   "execution_count": 25,
   "id": "cac5353a-da73-4e8e-b198-44aba19180d9",
   "metadata": {},
   "outputs": [
    {
     "name": "stdin",
     "output_type": "stream",
     "text": [
      "Enter the radius of the circle:  1.1\n"
     ]
    },
    {
     "name": "stdout",
     "output_type": "stream",
     "text": [
      "Area of the circle with radius 1.1 is 3.8013271108436504\n"
     ]
    }
   ],
   "source": [
    "import math\n",
    "\n",
    "# Input radius from the user\n",
    "radius = float(input(\"Enter the radius of the circle: \"))\n",
    "\n",
    "# Calculate area\n",
    "area = math.pi * (radius ** 2)\n",
    "print(\"Area of the circle with radius\", radius, \"is\", area)\n"
   ]
  },
  {
   "cell_type": "code",
   "execution_count": 26,
   "id": "b63bdca5-f7c0-4daf-9560-dbea048dcd1f",
   "metadata": {},
   "outputs": [
    {
     "name": "stdin",
     "output_type": "stream",
     "text": [
      "Enter your first name:  Manraj\n",
      "Enter your last name:  Chuut\n"
     ]
    },
    {
     "name": "stdout",
     "output_type": "stream",
     "text": [
      "Chuut Manraj\n"
     ]
    }
   ],
   "source": [
    "# Input first and last name\n",
    "first_name = input(\"Enter your first name: \")\n",
    "last_name = input(\"Enter your last name: \")\n",
    "\n",
    "# Print names in reverse order\n",
    "print(last_name, first_name)\n"
   ]
  },
  {
   "cell_type": "code",
   "execution_count": 27,
   "id": "87624c2c-8602-44d9-b6f0-a70e2378b1c2",
   "metadata": {},
   "outputs": [
    {
     "name": "stdin",
     "output_type": "stream",
     "text": [
      "Enter your first name:  Harman\n",
      "Enter your last name:  Singh\n"
     ]
    },
    {
     "name": "stdout",
     "output_type": "stream",
     "text": [
      "Singh Harman\n"
     ]
    }
   ],
   "source": [
    "# This example is the same as Example 5\n",
    "# Input first and last name\n",
    "first_name = input(\"Enter your first name: \")\n",
    "last_name = input(\"Enter your last name: \")\n",
    "\n",
    "# Print names in reverse order\n",
    "print(last_name, first_name)\n"
   ]
  },
  {
   "cell_type": "code",
   "execution_count": 28,
   "id": "59f56ac8-a89a-4a33-ad4c-ba6b2f9099a9",
   "metadata": {},
   "outputs": [
    {
     "name": "stdout",
     "output_type": "stream",
     "text": [
      "First color: Red\n",
      "Last color: Black\n"
     ]
    }
   ],
   "source": [
    "color_list = [\"Red\", \"Green\", \"White\", \"Black\"]\n",
    "\n",
    "# Display first and last colors\n",
    "print(\"First color:\", color_list[0])\n",
    "print(\"Last color:\", color_list[-1])\n"
   ]
  },
  {
   "cell_type": "code",
   "execution_count": 30,
   "id": "1a2264bd-d0bf-46b0-be8e-0821c2bfdfa3",
   "metadata": {},
   "outputs": [
    {
     "name": "stdin",
     "output_type": "stream",
     "text": [
      "Enter year:  2012\n",
      "Enter month:  09\n"
     ]
    },
    {
     "name": "stdout",
     "output_type": "stream",
     "text": [
      "   September 2012\n",
      "Mo Tu We Th Fr Sa Su\n",
      "                1  2\n",
      " 3  4  5  6  7  8  9\n",
      "10 11 12 13 14 15 16\n",
      "17 18 19 20 21 22 23\n",
      "24 25 26 27 28 29 30\n",
      "\n"
     ]
    }
   ],
   "source": [
    "import calendar\n",
    "\n",
    "# Input year and month\n",
    "year = int(input(\"Enter year: \"))\n",
    "month = int(input(\"Enter month: \"))\n",
    "\n",
    "# Print the calendar\n",
    "print(calendar.month(year, month))\n"
   ]
  },
  {
   "cell_type": "code",
   "execution_count": 31,
   "id": "0c3bc5c6-1b16-4650-8848-0e293fedb9ff",
   "metadata": {},
   "outputs": [
    {
     "name": "stdin",
     "output_type": "stream",
     "text": [
      "Enter first number:  12\n",
      "Enter second number:  09\n",
      "Enter third number:  06\n"
     ]
    },
    {
     "name": "stdout",
     "output_type": "stream",
     "text": [
      "The maximum of 12.0 9.0 6.0 is 12.0\n"
     ]
    }
   ],
   "source": [
    "def find_max(a, b, c):\n",
    "    return max(a, b, c)\n",
    "\n",
    "# Input three numbers\n",
    "num1 = float(input(\"Enter first number: \"))\n",
    "num2 = float(input(\"Enter second number: \"))\n",
    "num3 = float(input(\"Enter third number: \"))\n",
    "\n",
    "# Find and print the maximum number\n",
    "max_num = find_max(num1, num2, num3)\n",
    "print(\"The maximum of\", num1, num2, num3, \"is\", max_num)\n"
   ]
  },
  {
   "cell_type": "code",
   "execution_count": 32,
   "id": "0e59a564-5937-4873-8dc1-9713e2fd6236",
   "metadata": {},
   "outputs": [
    {
     "name": "stdout",
     "output_type": "stream",
     "text": [
      "Kia Ora, this is a parking meter\n",
      "The parking charge for 4 hours is $ 14\n"
     ]
    }
   ],
   "source": [
    "# Display message\n",
    "print(\"Kia Ora, this is a parking meter\")\n",
    "\n",
    "# Set ParkTime\n",
    "ParkTime = 4  # hours\n",
    "\n",
    "# Initialize rate and cost\n",
    "rate = 0\n",
    "cost = 0\n",
    "\n",
    "# Calculate parking charges\n",
    "if ParkTime <= 3:\n",
    "    rate = 4  # $ per hour\n",
    "else:\n",
    "    rate = 2  # $ per hour for additional hours after the first 3 hours\n",
    "\n",
    "if ParkTime <= 3:\n",
    "    cost = ParkTime * 4\n",
    "else:\n",
    "    cost = 3 * 4 + (ParkTime - 3) * 2\n",
    "\n",
    "# Display the calculated charge\n",
    "print(\"The parking charge for\", ParkTime, \"hours is $\", cost)\n"
   ]
  },
  {
   "cell_type": "code",
   "execution_count": 35,
   "id": "3f7a0296-020a-483e-8a8d-505543dd175d",
   "metadata": {},
   "outputs": [
    {
     "name": "stdout",
     "output_type": "stream",
     "text": [
      "Original list: [23, 65, 19, 90]\n",
      "List after swapping elements at positions 1 and 3 : [23, 90, 19, 65]\n",
      "Original list: [1, 2, 3, 4, 5]\n",
      "List after swapping elements at positions 1 and 4 : [1, 5, 3, 4, 2]\n"
     ]
    }
   ],
   "source": [
    "def swap_elements(lst, pos1, pos2):\n",
    "    lst[pos1], lst[pos2] = lst[pos2], lst[pos1]\n",
    "    return lst\n",
    "\n",
    "# Input list and positions\n",
    "lst1 = [23, 65, 19, 90]\n",
    "pos1_1, pos2_1 = 1, 3\n",
    "print(\"Original list:\", lst1)\n",
    "print(\"List after swapping elements at positions\", pos1_1, \"and\", pos2_1, \":\", swap_elements(lst1, pos1_1, pos2_1))\n",
    "\n",
    "lst2 = [1, 2, 3, 4, 5]\n",
    "pos1_2, pos2_2 = 1, 4  # Updated indices to be within range\n",
    "print(\"Original list:\", lst2)\n",
    "print(\"List after swapping elements at positions\", pos1_2, \"and\", pos2_2, \":\", swap_elements(lst2, pos1_2, pos2_2))\n"
   ]
  },
  {
   "cell_type": "code",
   "execution_count": null,
   "id": "3b3d6ac9-3d5f-4b5b-aaf3-8935035525c5",
   "metadata": {},
   "outputs": [],
   "source": []
  }
 ],
 "metadata": {
  "kernelspec": {
   "display_name": "Python 3 (ipykernel)",
   "language": "python",
   "name": "python3"
  },
  "language_info": {
   "codemirror_mode": {
    "name": "ipython",
    "version": 3
   },
   "file_extension": ".py",
   "mimetype": "text/x-python",
   "name": "python",
   "nbconvert_exporter": "python",
   "pygments_lexer": "ipython3",
   "version": "3.12.7"
  }
 },
 "nbformat": 4,
 "nbformat_minor": 5
}
